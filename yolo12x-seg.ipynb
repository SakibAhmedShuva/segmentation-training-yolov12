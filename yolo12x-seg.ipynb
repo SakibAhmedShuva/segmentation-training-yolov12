{
 "cells": [
  {
   "cell_type": "markdown",
   "metadata": {},
   "source": [
    "# Installing Required Packages"
   ]
  },
  {
   "cell_type": "code",
   "execution_count": null,
   "id": "f984744d-eb72-4b6c-a2c3-ac91df91ad44",
   "metadata": {
    "trusted": true
   },
   "outputs": [],
   "source": [
    "!pip install -U ultralytics\n",
    "# !pip install -U roboflow\n",
    "!pip install -U ipywidgets\n",
    "!pip install torchvision==0.19"
   ]
  },
  {
   "cell_type": "markdown",
   "metadata": {},
   "source": [
    "# Imports"
   ]
  },
  {
   "cell_type": "code",
   "execution_count": null,
   "id": "eed0f135-c692-40e6-9386-446f064b7168",
   "metadata": {
    "trusted": true
   },
   "outputs": [],
   "source": [
    "from ultralytics import YOLO\n",
    "import torch\n",
    "torch.cuda.is_available()\n",
    "import os\n",
    "os.environ['WANDB_MODE'] = 'disabled'"
   ]
  },
  {
   "cell_type": "code",
   "execution_count": null,
   "id": "6f16c3f8",
   "metadata": {
    "execution": {
     "iopub.execute_input": "2025-05-03T04:39:39.721379Z",
     "iopub.status.busy": "2025-05-03T04:39:39.721149Z",
     "iopub.status.idle": "2025-05-03T04:39:39.725608Z",
     "shell.execute_reply": "2025-05-03T04:39:39.724787Z",
     "shell.execute_reply.started": "2025-05-03T04:39:39.721351Z"
    },
    "id": "bb964b0b",
    "outputId": "217dfe00-e439-409e-bb0a-c060a520dcbd",
    "papermill": {
     "duration": 0.00881,
     "end_time": "2025-05-02T07:05:15.698354",
     "exception": false,
     "start_time": "2025-05-02T07:05:15.689544",
     "status": "completed"
    },
    "tags": [],
    "trusted": true
   },
   "outputs": [],
   "source": [
    "# from google.colab import drive\n",
    "\n",
    "# # Mount Google Drive\n",
    "# drive.mount('/content/drive')\n",
    "\n",
    "# # # Create folder\n",
    "# # !mkdir DS\n",
    "\n",
    "# # # Go to YOLOv8 root folder\n",
    "# # %cd /content/drive/MyDrive/yolo"
   ]
  },
  {
   "cell_type": "markdown",
   "id": "1558f032",
   "metadata": {
    "papermill": {
     "duration": 0.002627,
     "end_time": "2025-05-02T07:05:15.704266",
     "exception": false,
     "start_time": "2025-05-02T07:05:15.701639",
     "status": "completed"
    },
    "tags": []
   },
   "source": [
    "# Downloading Additional Files"
   ]
  },
  {
   "cell_type": "code",
   "execution_count": null,
   "id": "42f7facb",
   "metadata": {
    "execution": {
     "iopub.execute_input": "2025-05-03T04:39:39.727878Z",
     "iopub.status.busy": "2025-05-03T04:39:39.727579Z",
     "iopub.status.idle": "2025-05-03T04:39:39.748252Z",
     "shell.execute_reply": "2025-05-03T04:39:39.747377Z",
     "shell.execute_reply.started": "2025-05-03T04:39:39.727849Z"
    },
    "id": "0-2O2p-y6SgV",
    "outputId": "f53d8dca-6548-4db3-e521-9820051d78f2",
    "papermill": {
     "duration": 62.402254,
     "end_time": "2025-05-02T07:06:18.109226",
     "exception": false,
     "start_time": "2025-05-02T07:05:15.706972",
     "status": "completed"
    },
    "tags": [],
    "trusted": true
   },
   "outputs": [],
   "source": [
    "#Models\n",
    "# !gdown --folder 143dasfdasdfasf\n",
    "\n",
    "# best_model\n",
    "# !gdown 18kjdsghf"
   ]
  },
  {
   "cell_type": "code",
   "execution_count": null,
   "id": "539e55ce",
   "metadata": {
    "execution": {
     "iopub.execute_input": "2025-05-03T04:39:39.749368Z",
     "iopub.status.busy": "2025-05-03T04:39:39.749092Z",
     "iopub.status.idle": "2025-05-03T04:39:39.774670Z",
     "shell.execute_reply": "2025-05-03T04:39:39.773749Z",
     "shell.execute_reply.started": "2025-05-03T04:39:39.749345Z"
    },
    "id": "_mfo-_MqlAf9",
    "outputId": "ff9e47ab-c2e6-4839-ade9-76c7db1ca1a8",
    "papermill": {
     "duration": 0.010942,
     "end_time": "2025-05-02T07:06:18.125561",
     "exception": false,
     "start_time": "2025-05-02T07:06:18.114619",
     "status": "completed"
    },
    "tags": [],
    "trusted": true
   },
   "outputs": [],
   "source": [
    "# import shutil\n",
    "# import os\n",
    "\n",
    "# source_folder = \"/content/Augmented-train/\"\n",
    "# destination_folder = \"/content/drive/MyDrive/DS/Augmented-train\"\n",
    "\n",
    "# # Create destination folder and any parent directories if they don't exist\n",
    "# os.makedirs(destination_folder, exist_ok=True)\n",
    "\n",
    "# # Get all files and directories in the source folder\n",
    "# for item in os.listdir(source_folder):\n",
    "#     source_item = os.path.join(source_folder, item)\n",
    "#     destination_item = os.path.join(destination_folder, item)\n",
    "\n",
    "#     # If it's a directory, copy the directory\n",
    "#     if os.path.isdir(source_item):\n",
    "#         # Check if destination directory exists\n",
    "#         if os.path.exists(destination_item):\n",
    "#             shutil.rmtree(destination_item)  # Remove existing directory\n",
    "#         shutil.copytree(source_item, destination_item)\n",
    "#     # If it's a file, copy the file\n",
    "#     else:\n",
    "#         shutil.copy2(source_item, destination_item)\n",
    "\n",
    "# print(f\"All items copied from {source_folder} to {destination_folder}\")"
   ]
  },
  {
   "cell_type": "markdown",
   "id": "290fd03e",
   "metadata": {
    "papermill": {
     "duration": 0.004801,
     "end_time": "2025-05-02T07:06:18.135356",
     "exception": false,
     "start_time": "2025-05-02T07:06:18.130555",
     "status": "completed"
    },
    "tags": []
   },
   "source": [
    "# Downloading Data"
   ]
  },
  {
   "cell_type": "code",
   "execution_count": null,
   "id": "02bed697",
   "metadata": {
    "execution": {
     "iopub.execute_input": "2025-05-03T04:39:39.775628Z",
     "iopub.status.busy": "2025-05-03T04:39:39.775390Z",
     "iopub.status.idle": "2025-05-03T04:40:16.261448Z",
     "shell.execute_reply": "2025-05-03T04:40:16.260786Z",
     "shell.execute_reply.started": "2025-05-03T04:39:39.775603Z"
    },
    "id": "pnzIOH1zwCpR",
    "outputId": "32d4f6d8-96ac-4a66-9ef2-ecc6ff3c4cb8",
    "papermill": {
     "duration": 36.175342,
     "end_time": "2025-05-02T07:06:54.315491",
     "exception": false,
     "start_time": "2025-05-02T07:06:18.140149",
     "status": "completed"
    },
    "tags": [],
    "trusted": true
   },
   "outputs": [],
   "source": [
    "# augmented_data\n",
    "!gdown 1S7Bxk94wszefwerghrtjrtr"
   ]
  },
  {
   "cell_type": "code",
   "execution_count": null,
   "id": "0a5173ed",
   "metadata": {
    "execution": {
     "iopub.execute_input": "2025-05-03T04:40:16.263884Z",
     "iopub.status.busy": "2025-05-03T04:40:16.263654Z",
     "iopub.status.idle": "2025-05-03T04:40:27.169443Z",
     "shell.execute_reply": "2025-05-03T04:40:27.168908Z",
     "shell.execute_reply.started": "2025-05-03T04:40:16.263865Z"
    },
    "id": "ePMVpvcHV4Ln",
    "outputId": "9e224420-8a1b-49b1-fe96-680a29d50738",
    "papermill": {
     "duration": 11.223765,
     "end_time": "2025-05-02T07:07:05.551565",
     "exception": false,
     "start_time": "2025-05-02T07:06:54.327800",
     "status": "completed"
    },
    "tags": [],
    "trusted": true
   },
   "outputs": [],
   "source": [
    "import zipfile\n",
    "from tqdm import tqdm\n",
    "\n",
    "def extract_with_progress(zip_path, extract_path):\n",
    "    with zipfile.ZipFile(zip_path, 'r') as zip_ref:\n",
    "        # Get list of files\n",
    "        file_list = zip_ref.namelist()\n",
    "        # Show progress bar\n",
    "        for file in tqdm(file_list):\n",
    "            zip_ref.extract(file, extract_path)\n",
    "\n",
    "# Use the function\n",
    "extract_with_progress('./data.zip', './')"
   ]
  },
  {
   "cell_type": "code",
   "execution_count": null,
   "id": "b0838cbc",
   "metadata": {
    "execution": {
     "iopub.execute_input": "2025-05-03T04:44:05.741075Z",
     "iopub.status.busy": "2025-05-03T04:44:05.740761Z",
     "iopub.status.idle": "2025-05-03T04:44:05.745017Z",
     "shell.execute_reply": "2025-05-03T04:44:05.744424Z",
     "shell.execute_reply.started": "2025-05-03T04:44:05.741053Z"
    },
    "id": "4de1109a",
    "papermill": {
     "duration": 0.064741,
     "end_time": "2025-05-02T07:10:27.047145",
     "exception": false,
     "start_time": "2025-05-02T07:10:26.982404",
     "status": "completed"
    },
    "tags": [],
    "trusted": true
   },
   "outputs": [],
   "source": [
    "# Load a model\n",
    "# model = YOLO(\"./runs/segment/train2/weights/last.pt\")"
   ]
  },
  {
   "cell_type": "code",
   "execution_count": null,
   "id": "1a637c0e",
   "metadata": {
    "execution": {
     "iopub.execute_input": "2025-05-03T04:44:05.746094Z",
     "iopub.status.busy": "2025-05-03T04:44:05.745872Z",
     "iopub.status.idle": "2025-05-03T04:44:05.762838Z",
     "shell.execute_reply": "2025-05-03T04:44:05.762334Z",
     "shell.execute_reply.started": "2025-05-03T04:44:05.746077Z"
    },
    "id": "665a17fb",
    "papermill": {
     "duration": 0.065612,
     "end_time": "2025-05-02T07:10:27.172670",
     "exception": false,
     "start_time": "2025-05-02T07:10:27.107058",
     "status": "completed"
    },
    "tags": [],
    "trusted": true
   },
   "outputs": [],
   "source": [
    "# yolo predict model=yolo11n.pt source='https://ultralytics.com/images/bus.jpg'"
   ]
  },
  {
   "cell_type": "code",
   "execution_count": null,
   "id": "a25bcb94",
   "metadata": {
    "execution": {
     "iopub.execute_input": "2025-05-03T04:44:05.763730Z",
     "iopub.status.busy": "2025-05-03T04:44:05.763504Z",
     "iopub.status.idle": "2025-05-03T04:44:05.776213Z",
     "shell.execute_reply": "2025-05-03T04:44:05.775690Z",
     "shell.execute_reply.started": "2025-05-03T04:44:05.763714Z"
    },
    "id": "61898181",
    "outputId": "fc937251-cc71-4d17-ba58-662387aa43bb",
    "papermill": {
     "duration": 0.064539,
     "end_time": "2025-05-02T07:10:27.297428",
     "exception": false,
     "start_time": "2025-05-02T07:10:27.232889",
     "status": "completed"
    },
    "tags": [],
    "trusted": true
   },
   "outputs": [],
   "source": [
    "# # Go to YOLOv8 root folder\n",
    "# %cd \"/content/drive/MyDrive/DS/Augmented-train\""
   ]
  },
  {
   "cell_type": "code",
   "execution_count": null,
   "id": "8344b037",
   "metadata": {
    "execution": {
     "iopub.execute_input": "2025-05-03T04:44:05.777757Z",
     "iopub.status.busy": "2025-05-03T04:44:05.777275Z",
     "iopub.status.idle": "2025-05-03T04:44:05.789175Z",
     "shell.execute_reply": "2025-05-03T04:44:05.788519Z",
     "shell.execute_reply.started": "2025-05-03T04:44:05.777741Z"
    },
    "papermill": {
     "duration": 0.067625,
     "end_time": "2025-05-02T07:10:27.426582",
     "exception": false,
     "start_time": "2025-05-02T07:10:27.358957",
     "status": "completed"
    },
    "tags": [],
    "trusted": true
   },
   "outputs": [],
   "source": [
    "# !nvcc --version\n",
    "# !nvidia-smi"
   ]
  },
  {
   "cell_type": "code",
   "execution_count": null,
   "id": "92135eff",
   "metadata": {
    "execution": {
     "iopub.execute_input": "2025-05-03T04:44:05.791311Z",
     "iopub.status.busy": "2025-05-03T04:44:05.791084Z",
     "iopub.status.idle": "2025-05-03T04:44:05.802591Z",
     "shell.execute_reply": "2025-05-03T04:44:05.801866Z",
     "shell.execute_reply.started": "2025-05-03T04:44:05.791296Z"
    },
    "papermill": {
     "duration": 0.068713,
     "end_time": "2025-05-02T07:10:27.556622",
     "exception": false,
     "start_time": "2025-05-02T07:10:27.487909",
     "status": "completed"
    },
    "tags": [],
    "trusted": true
   },
   "outputs": [],
   "source": [
    "# import torch\n",
    "# torch.cuda.is_available()"
   ]
  },
  {
   "cell_type": "code",
   "execution_count": null,
   "id": "0e06e3af",
   "metadata": {
    "execution": {
     "iopub.execute_input": "2025-05-03T04:44:05.803360Z",
     "iopub.status.busy": "2025-05-03T04:44:05.803176Z",
     "iopub.status.idle": "2025-05-03T04:44:05.817176Z",
     "shell.execute_reply": "2025-05-03T04:44:05.816657Z",
     "shell.execute_reply.started": "2025-05-03T04:44:05.803346Z"
    },
    "papermill": {
     "duration": 0.067375,
     "end_time": "2025-05-02T07:10:27.693044",
     "exception": false,
     "start_time": "2025-05-02T07:10:27.625669",
     "status": "completed"
    },
    "tags": [],
    "trusted": true
   },
   "outputs": [],
   "source": [
    "# !pip3 install torch==2.4.1 torchvision==0.15.1 torchaudio==2.4.1 --index-url https://download.pytorch.org/whl/cu121\n"
   ]
  },
  {
   "cell_type": "code",
   "execution_count": null,
   "id": "3fc07daf",
   "metadata": {
    "execution": {
     "iopub.execute_input": "2025-05-03T04:44:05.818215Z",
     "iopub.status.busy": "2025-05-03T04:44:05.817954Z",
     "iopub.status.idle": "2025-05-03T04:44:05.830503Z",
     "shell.execute_reply": "2025-05-03T04:44:05.829964Z",
     "shell.execute_reply.started": "2025-05-03T04:44:05.818194Z"
    },
    "papermill": {
     "duration": 0.065279,
     "end_time": "2025-05-02T07:10:27.820127",
     "exception": false,
     "start_time": "2025-05-02T07:10:27.754848",
     "status": "completed"
    },
    "tags": [],
    "trusted": true
   },
   "outputs": [],
   "source": [
    "# !pip install torch==2.4.1+cu121 --index-url https://download.pytorch.org/whl/cu121"
   ]
  },
  {
   "cell_type": "code",
   "execution_count": null,
   "id": "77d2904a",
   "metadata": {
    "execution": {
     "iopub.execute_input": "2025-05-03T04:44:05.831340Z",
     "iopub.status.busy": "2025-05-03T04:44:05.831149Z",
     "iopub.status.idle": "2025-05-03T04:44:05.844317Z",
     "shell.execute_reply": "2025-05-03T04:44:05.843633Z",
     "shell.execute_reply.started": "2025-05-03T04:44:05.831326Z"
    },
    "id": "5bcc395a",
    "outputId": "cfadb07c-0cee-4f3c-ab1a-ad7b50b8f176",
    "papermill": {
     "duration": 0.065036,
     "end_time": "2025-05-02T07:10:27.944709",
     "exception": false,
     "start_time": "2025-05-02T07:10:27.879673",
     "status": "completed"
    },
    "tags": [],
    "trusted": true
   },
   "outputs": [],
   "source": [
    "# # Train the model\n",
    "# train_results = model.train(\n",
    "#     # model=\"/kaggle/working/runs/segment/train/weights/last.pt\",\n",
    "#     data=\"./data.yaml\",  # path to dataset YAML\n",
    "#     epochs=1000,  # number of training epochs\n",
    "#     # imgsz=640,  # training image size\n",
    "#     device=[0,1],\n",
    "#     batch=24,\n",
    "#     workers=8,\n",
    "#     seed=101,\n",
    "#     patience=500,\n",
    "#     resume=True\n",
    "#     # device to run on, i.e. device=0 or device=0,1,2,3 or device=cpu\n",
    "# )"
   ]
  },
  {
   "cell_type": "markdown",
   "metadata": {},
   "source": [
    "# Training Models"
   ]
  },
  {
   "cell_type": "code",
   "execution_count": null,
   "id": "c81e3f43",
   "metadata": {
    "execution": {
     "iopub.execute_input": "2025-05-03T04:52:26.600945Z",
     "iopub.status.busy": "2025-05-03T04:52:26.600658Z"
    },
    "id": "sZkxJQOrAl1M",
    "papermill": {
     "duration": 9102.760444,
     "end_time": "2025-05-02T09:42:10.765847",
     "exception": false,
     "start_time": "2025-05-02T07:10:28.005403",
     "status": "completed"
    },
    "tags": [],
    "trusted": true
   },
   "outputs": [],
   "source": [
    "!yolo task=segment mode=train model=yolo12x-seg.yaml data=\"./data.yaml\" epochs=1500 device=0,1 batch=16 workers=16 seed=101 patience=300 #resume=True"
   ]
  },
  {
   "cell_type": "code",
   "execution_count": null,
   "id": "4d45322f",
   "metadata": {
    "execution": {
     "iopub.execute_input": "2025-05-03T04:44:12.253990Z",
     "iopub.status.busy": "2025-05-03T04:44:12.253739Z",
     "iopub.status.idle": "2025-05-03T04:44:12.257883Z",
     "shell.execute_reply": "2025-05-03T04:44:12.257281Z",
     "shell.execute_reply.started": "2025-05-03T04:44:12.253961Z"
    },
    "papermill": {
     "duration": 0.445186,
     "end_time": "2025-05-02T09:42:11.586112",
     "exception": false,
     "start_time": "2025-05-02T09:42:11.140926",
     "status": "completed"
    },
    "tags": [],
    "trusted": true
   },
   "outputs": [],
   "source": [
    "# !yolo segment train data=./data.yaml model=./runs/segment/train/weights/last.pt epochs=1000 device=cpu batch=24 workers=12 seed=101 patience=300 resume=True"
   ]
  },
  {
   "cell_type": "code",
   "execution_count": null,
   "id": "dd255328",
   "metadata": {
    "papermill": {
     "duration": 0.379857,
     "end_time": "2025-05-02T09:42:12.342932",
     "exception": false,
     "start_time": "2025-05-02T09:42:11.963075",
     "status": "completed"
    },
    "tags": [],
    "trusted": true
   },
   "outputs": [],
   "source": []
  }
 ],
 "metadata": {
  "accelerator": "GPU",
  "colab": {
   "gpuType": "T4",
   "provenance": []
  },
  "kaggle": {
   "accelerator": "nvidiaTeslaT4",
   "dataSources": [],
   "dockerImageVersionId": 31011,
   "isGpuEnabled": true,
   "isInternetEnabled": true,
   "language": "python",
   "sourceType": "notebook"
  },
  "kernelspec": {
   "display_name": "Python 3",
   "language": "python",
   "name": "python3"
  },
  "language_info": {
   "codemirror_mode": {
    "name": "ipython",
    "version": 3
   },
   "file_extension": ".py",
   "mimetype": "text/x-python",
   "name": "python",
   "nbconvert_exporter": "python",
   "pygments_lexer": "ipython3",
   "version": "3.11.11"
  },
  "papermill": {
   "default_parameters": {},
   "duration": 9422.03357,
   "end_time": "2025-05-02T09:42:13.611902",
   "environment_variables": {},
   "exception": null,
   "input_path": "__notebook__.ipynb",
   "output_path": "__notebook__.ipynb",
   "parameters": {},
   "start_time": "2025-05-02T07:05:11.578332",
   "version": "2.6.0"
  }
 },
 "nbformat": 4,
 "nbformat_minor": 4
}
